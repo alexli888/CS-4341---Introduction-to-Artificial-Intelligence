{
  "cells": [
    {
      "cell_type": "markdown",
      "metadata": {
        "id": "0IHVfeD_pH5o"
      },
      "source": [
        "# **CS4341 Assignment 3 - Alex Li**"
      ]
    },
    {
      "cell_type": "markdown",
      "metadata": {
        "id": "SJejtqeYp0Ps"
      },
      "source": [
        "The following is code for Assignment 3 of CS4341. I have 3 models here: KNN, Decision Tree, Naive Bayes. Each model is in a seperate code block for organization purposes."
      ]
    },
    {
      "cell_type": "markdown",
      "metadata": {
        "id": "aWwfXuQEpNDS"
      },
      "source": [
        "**Model 1: KNN**"
      ]
    },
    {
      "cell_type": "code",
      "execution_count": null,
      "metadata": {
        "colab": {
          "base_uri": "https://localhost:8080/"
        },
        "id": "19TvV0PGpGB-",
        "outputId": "cca4faa2-936b-41f1-b71c-d144a09d81aa"
      },
      "outputs": [
        {
          "name": "stdout",
          "output_type": "stream",
          "text": [
            "KNN Classifier Evaluation\n",
            "Accuracy: 0.47058823529411764\n",
            "\n",
            "Classification Report:\n",
            "              precision    recall  f1-score   support\n",
            "\n",
            "        High       0.42      0.56      0.48        39\n",
            "         Low       0.38      0.29      0.33        31\n",
            "      Normal       0.58      0.51      0.54        49\n",
            "\n",
            "    accuracy                           0.47       119\n",
            "   macro avg       0.46      0.45      0.45       119\n",
            "weighted avg       0.48      0.47      0.47       119\n",
            "\n"
          ]
        }
      ],
      "source": [
        "import pandas as pd\n",
        "from sklearn.model_selection import train_test_split\n",
        "from sklearn.preprocessing import StandardScaler, LabelEncoder\n",
        "from sklearn.neighbors import KNeighborsClassifier\n",
        "from sklearn.metrics import classification_report, accuracy_score\n",
        "\n",
        "# Load dataset\n",
        "df = pd.read_csv(\"/content/student-mat_modified.csv\")\n",
        "\n",
        "# Drop rows with missing values(CLEANING DATASET)\n",
        "df = df.dropna()\n",
        "\n",
        "# Separate features and target\n",
        "X = df.drop(columns=['Performance'])  # Target is 'Performance'\n",
        "y = df['Performance']\n",
        "\n",
        "# One-hot encode categorical features\n",
        "X_encoded = pd.get_dummies(X, drop_first=True)\n",
        "\n",
        "# Encode target labels (High, Normal, Low)\n",
        "label_encoder = LabelEncoder()\n",
        "y_encoded = label_encoder.fit_transform(y)\n",
        "\n",
        "# Split into training and testing sets\n",
        "X_train, X_test, y_train, y_test = train_test_split(\n",
        "    X_encoded, y_encoded, test_size=0.3, random_state=42, stratify=y_encoded\n",
        ")\n",
        "\n",
        "# Standardize feature values\n",
        "scaler = StandardScaler()\n",
        "X_train_scaled = scaler.fit_transform(X_train)\n",
        "X_test_scaled = scaler.transform(X_test)\n",
        "\n",
        "# Initialize and train kNN classifier\n",
        "knn = KNeighborsClassifier(n_neighbors=5)\n",
        "knn.fit(X_train_scaled, y_train)\n",
        "\n",
        "# Predict on test data\n",
        "y_pred = knn.predict(X_test_scaled)\n",
        "\n",
        "# Evaluate \n",
        "print(\"KNN Classifier Evaluation\")\n",
        "print(\"Accuracy:\", accuracy_score(y_test, y_pred))\n",
        "print(\"\\nClassification Report:\")\n",
        "print(classification_report(y_test, y_pred, target_names=label_encoder.classes_))\n"
      ]
    },
    {
      "cell_type": "markdown",
      "metadata": {
        "id": "DQ97XdjypRqG"
      },
      "source": [
        "**Model 2: Decision Tree**\n"
      ]
    },
    {
      "cell_type": "code",
      "execution_count": 3,
      "metadata": {
        "colab": {
          "base_uri": "https://localhost:8080/"
        },
        "id": "XwL0QyqLpV3i",
        "outputId": "380fff75-ed2b-4b5c-8f99-ba859e1c87dc"
      },
      "outputs": [
        {
          "name": "stdout",
          "output_type": "stream",
          "text": [
            "Decision Tree Classifier Evaluation\n",
            "Accuracy: 0.42857142857142855\n",
            "\n",
            "Classification Report:\n",
            "              precision    recall  f1-score   support\n",
            "\n",
            "        High       0.47      0.44      0.45        39\n",
            "         Low       0.40      0.39      0.39        31\n",
            "      Normal       0.42      0.45      0.43        49\n",
            "\n",
            "    accuracy                           0.43       119\n",
            "   macro avg       0.43      0.42      0.43       119\n",
            "weighted avg       0.43      0.43      0.43       119\n",
            "\n"
          ]
        }
      ],
      "source": [
        "import pandas as pd\n",
        "from sklearn.model_selection import train_test_split\n",
        "from sklearn.preprocessing import StandardScaler, LabelEncoder\n",
        "from sklearn.tree import DecisionTreeClassifier\n",
        "from sklearn.metrics import classification_report, accuracy_score\n",
        "\n",
        "# Load dataset\n",
        "df = pd.read_csv(\"/content/student-mat_modified.csv\")\n",
        "\n",
        "# Drop missing values(CLEANNG DATASET)\n",
        "df = df.dropna()\n",
        "\n",
        "# Separate features and target\n",
        "X = df.drop(columns=['Performance'])\n",
        "y = df['Performance']\n",
        "\n",
        "# One-hot encode categorical features\n",
        "X_encoded = pd.get_dummies(X, drop_first=True)\n",
        "\n",
        "# Encode labels\n",
        "label_encoder = LabelEncoder()\n",
        "y_encoded = label_encoder.fit_transform(y)\n",
        "\n",
        "# Train-test split\n",
        "X_train, X_test, y_train, y_test = train_test_split(\n",
        "    X_encoded, y_encoded, test_size=0.3, random_state=42, stratify=y_encoded\n",
        ")\n",
        "\n",
        "# Scale features\n",
        "scaler = StandardScaler()\n",
        "X_train_scaled = scaler.fit_transform(X_train)\n",
        "X_test_scaled = scaler.transform(X_test)\n",
        "\n",
        "# Train Decision Tree\n",
        "dtree = DecisionTreeClassifier(random_state=42)\n",
        "dtree.fit(X_train_scaled, y_train)\n",
        "\n",
        "# Predict\n",
        "y_pred = dtree.predict(X_test_scaled)\n",
        "\n",
        "# Evaluate\n",
        "print(\"Decision Tree Classifier Evaluation\")\n",
        "print(\"Accuracy:\", accuracy_score(y_test, y_pred))\n",
        "print(\"\\nClassification Report:\")\n",
        "print(classification_report(y_test, y_pred, target_names=label_encoder.classes_))\n"
      ]
    },
    {
      "cell_type": "markdown",
      "metadata": {
        "id": "wvHOq1LqpXtz"
      },
      "source": [
        "**Model 3: Naïve Bayes**"
      ]
    },
    {
      "cell_type": "code",
      "execution_count": 4,
      "metadata": {
        "colab": {
          "base_uri": "https://localhost:8080/"
        },
        "id": "QyNEqgRRpbSM",
        "outputId": "420c2021-a964-4686-ed88-dca09c652ead"
      },
      "outputs": [
        {
          "name": "stdout",
          "output_type": "stream",
          "text": [
            "Naive Bayes Classifier Evaluation\n",
            "Accuracy: 0.24369747899159663\n",
            "\n",
            "Classification Report:\n",
            "              precision    recall  f1-score   support\n",
            "\n",
            "        High       0.67      0.10      0.18        39\n",
            "         Low       0.24      0.81      0.36        31\n",
            "      Normal       0.00      0.00      0.00        49\n",
            "\n",
            "    accuracy                           0.24       119\n",
            "   macro avg       0.30      0.30      0.18       119\n",
            "weighted avg       0.28      0.24      0.15       119\n",
            "\n"
          ]
        }
      ],
      "source": [
        "import pandas as pd\n",
        "from sklearn.model_selection import train_test_split\n",
        "from sklearn.preprocessing import StandardScaler, LabelEncoder\n",
        "from sklearn.naive_bayes import GaussianNB\n",
        "from sklearn.metrics import classification_report, accuracy_score\n",
        "\n",
        "# Load dataset\n",
        "df = pd.read_csv(\"/content/student-mat_modified.csv\")\n",
        "\n",
        "# Drop missing values(CLEANING DATASET)\n",
        "df = df.dropna()\n",
        "\n",
        "# Separate features and target\n",
        "X = df.drop(columns=['Performance'])\n",
        "y = df['Performance']\n",
        "\n",
        "# One-hot encode categorical features\n",
        "X_encoded = pd.get_dummies(X, drop_first=True)\n",
        "\n",
        "# Encode labels\n",
        "label_encoder = LabelEncoder()\n",
        "y_encoded = label_encoder.fit_transform(y)\n",
        "\n",
        "# Train-test split\n",
        "X_train, X_test, y_train, y_test = train_test_split(\n",
        "    X_encoded, y_encoded, test_size=0.3, random_state=42, stratify=y_encoded\n",
        ")\n",
        "\n",
        "# Scale features\n",
        "scaler = StandardScaler()\n",
        "X_train_scaled = scaler.fit_transform(X_train)\n",
        "X_test_scaled = scaler.transform(X_test)\n",
        "\n",
        "# Train Naiive Bayes\n",
        "nb = GaussianNB()\n",
        "nb.fit(X_train_scaled, y_train)\n",
        "\n",
        "# Predict\n",
        "y_pred = nb.predict(X_test_scaled)\n",
        "\n",
        "# Evaluate\n",
        "print(\"Naive Bayes Classifier Evaluation\")\n",
        "print(\"Accuracy:\", accuracy_score(y_test, y_pred))\n",
        "print(\"\\nClassification Report:\")\n",
        "print(classification_report(y_test, y_pred, target_names=label_encoder.classes_))\n"
      ]
    }
  ],
  "metadata": {
    "colab": {
      "provenance": []
    },
    "kernelspec": {
      "display_name": "Python 3",
      "name": "python3"
    },
    "language_info": {
      "name": "python"
    }
  },
  "nbformat": 4,
  "nbformat_minor": 0
}
